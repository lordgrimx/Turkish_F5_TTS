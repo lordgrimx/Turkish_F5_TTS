{
 "cells": [
  {
   "cell_type": "markdown",
   "metadata": {},
   "source": [
    "# Turkish F5-TTS Model Training with Google Drive Integration\n",
    "\n",
    "Bu notebook, Türkçe F5-TTS modelinin eğitimi ve Google Drive entegrasyonu için kullanılacaktır."
   ]
  },
  {
   "cell_type": "code",
   "execution_count": null,
   "metadata": {},
   "outputs": [],
   "source": [
    "# Google Drive'ı bağla\n",
    "from google.colab import drive\n",
    "drive.mount('/content/drive')\n",
    "\n",
    "# Checkpoint dizinini oluştur\n",
    "!mkdir -p /content/drive/MyDrive/turkish_f5_tts_checkpoints"
   ]
  },
  {
   "cell_type": "code",
   "execution_count": null,
   "metadata": {},
   "outputs": [],
   "source": [
    "# Gerekli kütüphaneleri kur\n",
    "!pip install torch torchaudio numpy scipy librosa soundfile tensorboard matplotlib phonemizer unidecode transformers fairseq gradio PyYAML"
   ]
  },
  {
   "cell_type": "code",
   "execution_count": null,
   "metadata": {},
   "outputs": [],
   "source": [
    "# GitHub'dan kodu çek\n",
    "!git clone https://github.com/lordgrimx/Turkish_F5_TTS.git turkish_f5_tts\n",
    "%cd turkish_f5_tts"
   ]
  },
  {
   "cell_type": "code",
   "execution_count": null,
   "metadata": {},
   "outputs": [],
   "source": [
    "# Veri setini Google Drive'dan kopyala\n",
    "!cp -r /content/drive/MyDrive/path/to/your/dataset ./dataset"
   ]
  },
  {
   "cell_type": "code",
   "execution_count": null,
   "metadata": {},
   "outputs": [],
   "source": [
    "# Eğitimi başlat\n",
    "!python train.py"
   ]
  },
  {
   "cell_type": "code",
   "execution_count": null,
   "metadata": {},
   "outputs": [],
   "source": [
    "# Eğitilmiş modeli test et\n",
    "from turkish_f5_tts.text_to_speech import TextToSpeech\n",
    "import IPython.display as ipd\n",
    "\n",
    "# En iyi modeli yükle\n",
    "model_path = '/content/drive/MyDrive/turkish_f5_tts_checkpoints/best_model.pt'\n",
    "tts = TextToSpeech(model_path)\n",
    "\n",
    "# Test metni\n",
    "text = \"Merhaba, bu bir test cümlesidir.\"\n",
    "\n",
    "# Ses üret\n",
    "waveform = tts.synthesize(text, output_path='test_output.wav')\n",
    "\n",
    "# Sesi çal\n",
    "ipd.Audio('test_output.wav')"
   ]
  },
  {
   "cell_type": "markdown",
   "metadata": {},
   "source": [
    "## Model Dosyaları\n",
    "\n",
    "Eğitim sırasında aşağıdaki dosyalar Google Drive'ınıza kaydedilecektir:\n",
    "\n",
    "1. `/content/drive/MyDrive/turkish_f5_tts_checkpoints/checkpoint_epoch_*.pt`: Her 10 epoch'ta bir kaydedilen checkpoint'ler\n",
    "2. `/content/drive/MyDrive/turkish_f5_tts_checkpoints/best_model.pt`: En düşük kayıp değerine sahip model\n",
    "\n",
    "Bu dosyaları daha sonra başka bir eğitim için veya inference için kullanabilirsiniz."
   ]
  }
 ],
 "metadata": {
  "language_info": {
   "name": "python"
  }
 },
 "nbformat": 4,
 "nbformat_minor": 2
}
